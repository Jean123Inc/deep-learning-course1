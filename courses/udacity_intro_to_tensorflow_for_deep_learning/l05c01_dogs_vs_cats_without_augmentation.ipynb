{
  "nbformat": 4,
  "nbformat_minor": 0,
  "metadata": {
    "accelerator": "GPU",
    "colab": {
      "name": "l05c01_dogs_vs_cats_without_augmentation.ipynb",
      "provenance": [],
      "collapsed_sections": [],
      "toc_visible": true
    },
    "kernelspec": {
      "display_name": "Python 3",
      "name": "python3"
    }
  },
  "cells": [
    {
      "cell_type": "markdown",
      "metadata": {
        "id": "TBFXQGKYUc4X"
      },
      "source": [
        "##### Copyright 2019 The TensorFlow Authors."
      ]
    },
    {
      "cell_type": "code",
      "metadata": {
        "cellView": "form",
        "id": "1z4xy2gTUc4a"
      },
      "source": [
        "#@title Licensed under the Apache License, Version 2.0 (the \"License\");\n",
        "# you may not use this file except in compliance with the License.\n",
        "# You may obtain a copy of the License at\n",
        "#\n",
        "# https://www.apache.org/licenses/LICENSE-2.0\n",
        "#\n",
        "# Unless required by applicable law or agreed to in writing, software\n",
        "# distributed under the License is distributed on an \"AS IS\" BASIS,\n",
        "# WITHOUT WARRANTIES OR CONDITIONS OF ANY KIND, either express or implied.\n",
        "# See the License for the specific language governing permissions and\n",
        "# limitations under the License."
      ],
      "execution_count": null,
      "outputs": []
    },
    {
      "cell_type": "markdown",
      "metadata": {
        "id": "FE7KNzPPVrVV"
      },
      "source": [
        "# Dogs vs Cats Image Classification Without Image Augmentation"
      ]
    },
    {
      "cell_type": "markdown",
      "metadata": {
        "id": "KwQtSOz0VrVX"
      },
      "source": [
        "<table class=\"tfo-notebook-buttons\" align=\"left\">\n",
        "  <td>\n",
        "    <a target=\"_blank\" href=\"https://colab.research.google.com/github/tensorflow/examples/blob/master/courses/udacity_intro_to_tensorflow_for_deep_learning/l05c01_dogs_vs_cats_without_augmentation.ipynb\"><img src=\"https://www.tensorflow.org/images/colab_logo_32px.png\" />Run in Google Colab</a>\n",
        "  </td>\n",
        "  <td>\n",
        "    <a target=\"_blank\" href=\"https://github.com/tensorflow/examples/blob/master/courses/udacity_intro_to_tensorflow_for_deep_learning/l05c01_dogs_vs_cats_without_augmentation.ipynb\"><img src=\"https://www.tensorflow.org/images/GitHub-Mark-32px.png\" />View source on GitHub</a>\n",
        "  </td>\n",
        "</table>"
      ]
    },
    {
      "cell_type": "markdown",
      "metadata": {
        "id": "gN7G9GFmVrVY"
      },
      "source": [
        "In this tutorial, we will discuss how to classify images into pictures of cats or pictures of dogs. We'll build an image classifier using `tf.keras.Sequential` model and load data using `tf.keras.preprocessing.image.ImageDataGenerator`.\n",
        "\n",
        "## Specific concepts that will be covered:\n",
        "In the process, we will build practical experience and develop intuition around the following concepts\n",
        "\n",
        "* Building _data input pipelines_ using the `tf.keras.preprocessing.image.ImageDataGenerator` class — How can we efficiently work with data on disk to interface with our model?\n",
        "* _Overfitting_ - what is it, how to identify it?\n",
        "\n",
        "<hr>\n",
        "\n",
        "\n",
        "**Before you begin**\n",
        "\n",
        "Before running the code in this notebook, reset the runtime by going to **Runtime -> Reset all runtimes** in the menu above. If you have been working through several notebooks, this will help you avoid reaching Colab's memory limits.\n"
      ]
    },
    {
      "cell_type": "markdown",
      "metadata": {
        "id": "zF9uvbXNVrVY"
      },
      "source": [
        "# Importing packages"
      ]
    },
    {
      "cell_type": "markdown",
      "metadata": {
        "id": "VddxeYBEVrVZ"
      },
      "source": [
        "Let's start by importing required packages:\n",
        "\n",
        "*   os — to read files and directory structure\n",
        "*   numpy — for some matrix math outside of TensorFlow\n",
        "*   matplotlib.pyplot — to plot the graph and display images in our training and validation data\n"
      ]
    },
    {
      "cell_type": "code",
      "metadata": {
        "id": "oSdjGwVWGshH"
      },
      "source": [
        "import tensorflow as tf"
      ],
      "execution_count": 1,
      "outputs": []
    },
    {
      "cell_type": "code",
      "metadata": {
        "id": "nlORkUyFGxWH"
      },
      "source": [
        "from tensorflow.keras.preprocessing.image import ImageDataGenerator"
      ],
      "execution_count": 2,
      "outputs": []
    },
    {
      "cell_type": "code",
      "metadata": {
        "id": "wqtiIPRbG4FA"
      },
      "source": [
        "import os\n",
        "import matplotlib.pyplot as plt\n",
        "import numpy as np"
      ],
      "execution_count": 3,
      "outputs": []
    },
    {
      "cell_type": "code",
      "metadata": {
        "id": "GHHqtPisG3R1"
      },
      "source": [
        "import logging\n",
        "logger = tf.get_logger()\n",
        "logger.setLevel(logging.ERROR)"
      ],
      "execution_count": 4,
      "outputs": []
    },
    {
      "cell_type": "markdown",
      "metadata": {
        "id": "UZZI6lNkVrVm"
      },
      "source": [
        "# Data Loading"
      ]
    },
    {
      "cell_type": "markdown",
      "metadata": {
        "id": "DPHx8-t-VrVo"
      },
      "source": [
        "To build our image classifier, we begin by downloading the dataset. The dataset we are using is a filtered version of <a href=\"https://www.kaggle.com/c/dogs-vs-cats/data\" target=\"_blank\">Dogs vs. Cats</a> dataset from Kaggle (ultimately, this dataset is provided by Microsoft Research).\n",
        "\n",
        "In previous Colabs, we've used <a href=\"https://www.tensorflow.org/datasets\" target=\"_blank\">TensorFlow Datasets</a>, which is a very easy and convenient way to use datasets. In this Colab however, we will make use of the class `tf.keras.preprocessing.image.ImageDataGenerator` which will read data from disk. We therefore need to directly download *Dogs vs. Cats* from a URL and unzip it to the Colab filesystem."
      ]
    },
    {
      "cell_type": "code",
      "metadata": {
        "id": "rpUSoFjuVrVp",
        "outputId": "dbc2d3d1-01f6-47b8-9d40-91d0d0585e94",
        "colab": {
          "base_uri": "https://localhost:8080/"
        }
      },
      "source": [
        "_URL = 'https://storage.googleapis.com/mledu-datasets/cats_and_dogs_filtered.zip'\n",
        "zip_dir = tf.keras.utils.get_file('cats_and_dogs_filterted.zip', origin=_URL, extract=True)"
      ],
      "execution_count": 5,
      "outputs": [
        {
          "output_type": "stream",
          "text": [
            "Downloading data from https://storage.googleapis.com/mledu-datasets/cats_and_dogs_filtered.zip\n",
            "68608000/68606236 [==============================] - 1s 0us/step\n"
          ],
          "name": "stdout"
        }
      ]
    },
    {
      "cell_type": "markdown",
      "metadata": {
        "id": "Giv0wMQzVrVw"
      },
      "source": [
        "The dataset we have downloaded has the following directory structure.\n",
        "\n",
        "<pre style=\"font-size: 10.0pt; font-family: Arial; line-height: 2; letter-spacing: 1.0pt;\" >\n",
        "<b>cats_and_dogs_filtered</b>\n",
        "|__ <b>train</b>\n",
        "    |______ <b>cats</b>: [cat.0.jpg, cat.1.jpg, cat.2.jpg ...]\n",
        "    |______ <b>dogs</b>: [dog.0.jpg, dog.1.jpg, dog.2.jpg ...]\n",
        "|__ <b>validation</b>\n",
        "    |______ <b>cats</b>: [cat.2000.jpg, cat.2001.jpg, cat.2002.jpg ...]\n",
        "    |______ <b>dogs</b>: [dog.2000.jpg, dog.2001.jpg, dog.2002.jpg ...]\n",
        "</pre>\n",
        "\n",
        "We can list the directories with the following terminal command:"
      ]
    },
    {
      "cell_type": "code",
      "metadata": {
        "id": "ssD23VbTZeVA",
        "outputId": "18c52c77-93b2-4cde-9280-6256762f2026",
        "colab": {
          "base_uri": "https://localhost:8080/"
        }
      },
      "source": [
        "zip_dir_base = os.path.dirname(zip_dir)\n",
        "!find $zip_dir_base -type d -print"
      ],
      "execution_count": 6,
      "outputs": [
        {
          "output_type": "stream",
          "text": [
            "/root/.keras/datasets\n",
            "/root/.keras/datasets/cats_and_dogs_filtered\n",
            "/root/.keras/datasets/cats_and_dogs_filtered/validation\n",
            "/root/.keras/datasets/cats_and_dogs_filtered/validation/cats\n",
            "/root/.keras/datasets/cats_and_dogs_filtered/validation/dogs\n",
            "/root/.keras/datasets/cats_and_dogs_filtered/train\n",
            "/root/.keras/datasets/cats_and_dogs_filtered/train/cats\n",
            "/root/.keras/datasets/cats_and_dogs_filtered/train/dogs\n"
          ],
          "name": "stdout"
        }
      ]
    },
    {
      "cell_type": "markdown",
      "metadata": {
        "id": "VpmywIlsVrVx"
      },
      "source": [
        "We'll now assign variables with the proper file path for the training and validation sets."
      ]
    },
    {
      "cell_type": "code",
      "metadata": {
        "id": "sRucI3QqVrVy"
      },
      "source": [
        "base_dir = os.path.join(os.path.dirname(zip_dir), 'cats_and_dogs_filtered')\n",
        "train_dir = os.path.join(base_dir, 'train')\n",
        "validation_dir = os.path.join(base_dir, 'validation')\n",
        "\n",
        "train_cats_dir = os.path.join(train_dir, 'cats')  # directory with our training cat pictures\n",
        "train_dogs_dir = os.path.join(train_dir, 'dogs')  # directory with our training dog pictures\n",
        "validation_cats_dir = os.path.join(validation_dir, 'cats')  # directory with our validation cat pictures\n",
        "validation_dogs_dir = os.path.join(validation_dir, 'dogs')  # directory with our validation dog pictures"
      ],
      "execution_count": 7,
      "outputs": []
    },
    {
      "cell_type": "markdown",
      "metadata": {
        "id": "ZdrHHTy2VrV3"
      },
      "source": [
        "### Understanding our data"
      ]
    },
    {
      "cell_type": "markdown",
      "metadata": {
        "id": "LblUYjl-VrV3"
      },
      "source": [
        "Let's look at how many cats and dogs images we have in our training and validation directory"
      ]
    },
    {
      "cell_type": "code",
      "metadata": {
        "id": "vc4u8e9hVrV4"
      },
      "source": [
        "num_cats_tr = len(os.listdir(train_cats_dir))\n",
        "num_dogs_tr = len(os.listdir(train_dogs_dir))\n",
        "\n",
        "num_cats_val = len(os.listdir(validation_cats_dir))\n",
        "num_dogs_val = len(os.listdir(validation_dogs_dir))\n",
        "\n",
        "total_train = num_cats_tr + num_dogs_tr\n",
        "total_val = num_cats_val + num_dogs_val"
      ],
      "execution_count": 8,
      "outputs": []
    },
    {
      "cell_type": "code",
      "metadata": {
        "id": "g4GGzGt0VrV7",
        "outputId": "3eee73c8-66a5-4797-fa24-c4208d75b41b",
        "colab": {
          "base_uri": "https://localhost:8080/"
        }
      },
      "source": [
        "print('total training cat images:', num_cats_tr)\n",
        "print('total training dog images:', num_dogs_tr)\n",
        "\n",
        "print('total validation cat images:', num_cats_val)\n",
        "print('total validation dog images:', num_dogs_val)\n",
        "print(\"--\")\n",
        "print(\"Total training images:\", total_train)\n",
        "print(\"Total validation images:\", total_val)"
      ],
      "execution_count": 9,
      "outputs": [
        {
          "output_type": "stream",
          "text": [
            "total training cat images: 1000\n",
            "total training dog images: 1000\n",
            "total validation cat images: 500\n",
            "total validation dog images: 500\n",
            "--\n",
            "Total training images: 2000\n",
            "Total validation images: 1000\n"
          ],
          "name": "stdout"
        }
      ]
    },
    {
      "cell_type": "markdown",
      "metadata": {
        "id": "tdsI_L-NVrV_"
      },
      "source": [
        "# Setting Model Parameters"
      ]
    },
    {
      "cell_type": "markdown",
      "metadata": {
        "id": "8Lp-0ejxOtP1"
      },
      "source": [
        "For convenience, we'll set up variables that will be used later while pre-processing our dataset and training our network."
      ]
    },
    {
      "cell_type": "code",
      "metadata": {
        "id": "3NqNselLVrWA"
      },
      "source": [
        "BATCH_SIZE = 100  # Number of training examples to process before updating our models variables\n",
        "IMG_SHAPE  = 150  # Our training data consists of images with width of 150 pixels and height of 150 pixels"
      ],
      "execution_count": 10,
      "outputs": []
    },
    {
      "cell_type": "markdown",
      "metadata": {
        "id": "INn-cOn1VrWC"
      },
      "source": [
        "# Data Preparation "
      ]
    },
    {
      "cell_type": "markdown",
      "metadata": {
        "id": "5Jfk6aSAVrWD"
      },
      "source": [
        "Images must be formatted into appropriately pre-processed floating point tensors before being fed into the network. The steps involved in preparing these images are:\n",
        "\n",
        "1. Read images from the disk\n",
        "2. Decode contents of these images and convert it into proper grid format as per their RGB content\n",
        "3. Convert them into floating point tensors\n",
        "4. Rescale the tensors from values between 0 and 255 to values between 0 and 1, as neural networks prefer to deal with small input values.\n",
        "\n",
        "Fortunately, all these tasks can be done using the class **tf.keras.preprocessing.image.ImageDataGenerator**.\n",
        "\n",
        "We can set this up in a couple of lines of code."
      ]
    },
    {
      "cell_type": "code",
      "metadata": {
        "id": "syDdF_LWVrWE"
      },
      "source": [
        "train_image_generator      = ImageDataGenerator(rescale=1./255)  # Generator for our training data\n",
        "validation_image_generator = ImageDataGenerator(rescale=1./255)  # Generator for our validation data"
      ],
      "execution_count": 11,
      "outputs": []
    },
    {
      "cell_type": "markdown",
      "metadata": {
        "id": "RLciCR_FVrWH"
      },
      "source": [
        "After defining our generators for training and validation images, **flow_from_directory** method will load images from the disk, apply rescaling, and resize them using single line of code."
      ]
    },
    {
      "cell_type": "code",
      "metadata": {
        "id": "Pw94ajOOVrWI",
        "outputId": "7f1bfb1f-6dd7-44de-97cc-c6548e2e2555",
        "colab": {
          "base_uri": "https://localhost:8080/"
        }
      },
      "source": [
        "train_data_gen = train_image_generator.flow_from_directory(batch_size=BATCH_SIZE,\n",
        "                                                           directory=train_dir,\n",
        "                                                           shuffle=True,\n",
        "                                                           target_size=(IMG_SHAPE,IMG_SHAPE), #(150,150)\n",
        "                                                           class_mode='binary')"
      ],
      "execution_count": 12,
      "outputs": [
        {
          "output_type": "stream",
          "text": [
            "Found 2000 images belonging to 2 classes.\n"
          ],
          "name": "stdout"
        }
      ]
    },
    {
      "cell_type": "code",
      "metadata": {
        "id": "2oUoKUzRVrWM",
        "outputId": "dcc0fc8f-0cf5-4031-b404-9634f92dd629",
        "colab": {
          "base_uri": "https://localhost:8080/"
        }
      },
      "source": [
        "val_data_gen = validation_image_generator.flow_from_directory(batch_size=BATCH_SIZE,\n",
        "                                                              directory=validation_dir,\n",
        "                                                              shuffle=False,\n",
        "                                                              target_size=(IMG_SHAPE,IMG_SHAPE), #(150,150)\n",
        "                                                              class_mode='binary')"
      ],
      "execution_count": 13,
      "outputs": [
        {
          "output_type": "stream",
          "text": [
            "Found 1000 images belonging to 2 classes.\n"
          ],
          "name": "stdout"
        }
      ]
    },
    {
      "cell_type": "markdown",
      "metadata": {
        "id": "hyexPJ8CVrWP"
      },
      "source": [
        "### Visualizing Training images"
      ]
    },
    {
      "cell_type": "markdown",
      "metadata": {
        "id": "60CnhEL4VrWQ"
      },
      "source": [
        "We can visualize our training images by getting a batch of images from the training generator, and then plotting a few of them using `matplotlib`."
      ]
    },
    {
      "cell_type": "code",
      "metadata": {
        "id": "3f0Z7NZgVrWQ"
      },
      "source": [
        "sample_training_images, _ = next(train_data_gen) "
      ],
      "execution_count": 14,
      "outputs": []
    },
    {
      "cell_type": "markdown",
      "metadata": {
        "id": "49weMt5YVrWT"
      },
      "source": [
        "The `next` function returns a batch from the dataset. One batch is a tuple of (*many images*, *many labels*). For right now, we're discarding the labels because we just want to look at the images."
      ]
    },
    {
      "cell_type": "code",
      "metadata": {
        "id": "JMt2RES_VrWU"
      },
      "source": [
        "# This function will plot images in the form of a grid with 1 row and 5 columns where images are placed in each column.\n",
        "def plotImages(images_arr):\n",
        "    fig, axes = plt.subplots(1, 5, figsize=(20,20))\n",
        "    axes = axes.flatten()\n",
        "    for img, ax in zip(images_arr, axes):\n",
        "        ax.imshow(img)\n",
        "    plt.tight_layout()\n",
        "    plt.show()"
      ],
      "execution_count": 15,
      "outputs": []
    },
    {
      "cell_type": "code",
      "metadata": {
        "id": "d_VVg_gEVrWW"
      },
      "source": [
        "plotImages(sample_training_images[:5])  # Plot images 0-4"
      ],
      "execution_count": null,
      "outputs": []
    },
    {
      "cell_type": "markdown",
      "metadata": {
        "id": "b5Ej-HLGVrWZ"
      },
      "source": [
        "# Model Creation"
      ]
    },
    {
      "cell_type": "markdown",
      "metadata": {
        "id": "wEgW4i18VrWZ"
      },
      "source": [
        "## Define the model\n",
        "\n",
        "The model consists of four convolution blocks with a max pool layer in each of them. Then we have a fully connected layer with 512 units, with a `relu` activation function. The model will output class probabilities for two classes — dogs and cats — using `softmax`. "
      ]
    },
    {
      "cell_type": "code",
      "metadata": {
        "id": "F15-uwLPVrWa"
      },
      "source": [
        "model = tf.keras.models.Sequential([\n",
        "    tf.keras.layers.Conv2D(32, (3,3), activation='relu', input_shape=(150, 150, 3)),\n",
        "    tf.keras.layers.MaxPooling2D(2, 2),\n",
        "\n",
        "    tf.keras.layers.Conv2D(64, (3,3), activation='relu'),\n",
        "    tf.keras.layers.MaxPooling2D(2,2),\n",
        "    \n",
        "    tf.keras.layers.Conv2D(128, (3,3), activation='relu'),\n",
        "    tf.keras.layers.MaxPooling2D(2,2),\n",
        "    \n",
        "    tf.keras.layers.Conv2D(128, (3,3), activation='relu'),\n",
        "    tf.keras.layers.MaxPooling2D(2,2),\n",
        "    \n",
        "    tf.keras.layers.Flatten(),\n",
        "    tf.keras.layers.Dense(512, activation='relu'),\n",
        "    tf.keras.layers.Dense(2)\n",
        "])"
      ],
      "execution_count": 16,
      "outputs": []
    },
    {
      "cell_type": "markdown",
      "metadata": {
        "id": "PI5cdkMQVrWc"
      },
      "source": [
        "### Compile the model\n",
        "\n",
        "As usual, we will use the `adam` optimizer. Since we output a softmax categorization, we'll use `sparse_categorical_crossentropy` as the loss function. We would also like to look at training and validation accuracy on each epoch as we train our network, so we are passing in the metrics argument."
      ]
    },
    {
      "cell_type": "code",
      "metadata": {
        "id": "6Mg7_TXOVrWd"
      },
      "source": [
        "model.compile(optimizer='adam',\n",
        "              loss=tf.keras.losses.SparseCategoricalCrossentropy(from_logits=True),\n",
        "              metrics=['accuracy'])"
      ],
      "execution_count": 17,
      "outputs": []
    },
    {
      "cell_type": "markdown",
      "metadata": {
        "id": "2YmQZ3TAVrWg"
      },
      "source": [
        "### Model Summary\n",
        "\n",
        "Let's look at all the layers of our network using **summary** method."
      ]
    },
    {
      "cell_type": "code",
      "metadata": {
        "id": "Vtny8hmBVrWh",
        "outputId": "89eea2c9-c74c-496e-b488-cd85f18b6cb0",
        "colab": {
          "base_uri": "https://localhost:8080/"
        }
      },
      "source": [
        "model.summary()"
      ],
      "execution_count": 18,
      "outputs": [
        {
          "output_type": "stream",
          "text": [
            "Model: \"sequential\"\n",
            "_________________________________________________________________\n",
            "Layer (type)                 Output Shape              Param #   \n",
            "=================================================================\n",
            "conv2d (Conv2D)              (None, 148, 148, 32)      896       \n",
            "_________________________________________________________________\n",
            "max_pooling2d (MaxPooling2D) (None, 74, 74, 32)        0         \n",
            "_________________________________________________________________\n",
            "conv2d_1 (Conv2D)            (None, 72, 72, 64)        18496     \n",
            "_________________________________________________________________\n",
            "max_pooling2d_1 (MaxPooling2 (None, 36, 36, 64)        0         \n",
            "_________________________________________________________________\n",
            "conv2d_2 (Conv2D)            (None, 34, 34, 128)       73856     \n",
            "_________________________________________________________________\n",
            "max_pooling2d_2 (MaxPooling2 (None, 17, 17, 128)       0         \n",
            "_________________________________________________________________\n",
            "conv2d_3 (Conv2D)            (None, 15, 15, 128)       147584    \n",
            "_________________________________________________________________\n",
            "max_pooling2d_3 (MaxPooling2 (None, 7, 7, 128)         0         \n",
            "_________________________________________________________________\n",
            "flatten (Flatten)            (None, 6272)              0         \n",
            "_________________________________________________________________\n",
            "dense (Dense)                (None, 512)               3211776   \n",
            "_________________________________________________________________\n",
            "dense_1 (Dense)              (None, 2)                 1026      \n",
            "=================================================================\n",
            "Total params: 3,453,634\n",
            "Trainable params: 3,453,634\n",
            "Non-trainable params: 0\n",
            "_________________________________________________________________\n"
          ],
          "name": "stdout"
        }
      ]
    },
    {
      "cell_type": "markdown",
      "metadata": {
        "id": "N06iqE8VVrWj"
      },
      "source": [
        "### Train the model"
      ]
    },
    {
      "cell_type": "markdown",
      "metadata": {
        "id": "oub9RtoFVrWk"
      },
      "source": [
        "It's time we train our network.\n",
        "\n",
        "Since our batches are coming from a generator (`ImageDataGenerator`), we'll use `fit_generator` instead of `fit`."
      ]
    },
    {
      "cell_type": "code",
      "metadata": {
        "id": "KSF2HqhDVrWk",
        "outputId": "ae875d2e-c25c-4d10-b50c-c826b4b9e5ca",
        "colab": {
          "base_uri": "https://localhost:8080/"
        }
      },
      "source": [
        "EPOCHS = 100\n",
        "history = model.fit_generator(\n",
        "    train_data_gen,\n",
        "    steps_per_epoch=int(np.ceil(total_train / float(BATCH_SIZE))),\n",
        "    epochs=EPOCHS,\n",
        "    validation_data=val_data_gen,\n",
        "    validation_steps=int(np.ceil(total_val / float(BATCH_SIZE)))\n",
        ")"
      ],
      "execution_count": 19,
      "outputs": [
        {
          "output_type": "stream",
          "text": [
            "/usr/local/lib/python3.7/dist-packages/tensorflow/python/keras/engine/training.py:1940: UserWarning: `Model.fit_generator` is deprecated and will be removed in a future version. Please use `Model.fit`, which supports generators.\n",
            "  warnings.warn('`Model.fit_generator` is deprecated and '\n"
          ],
          "name": "stderr"
        },
        {
          "output_type": "stream",
          "text": [
            "Epoch 1/100\n",
            "20/20 [==============================] - 41s 508ms/step - loss: 0.7349 - accuracy: 0.5080 - val_loss: 0.6921 - val_accuracy: 0.5040\n",
            "Epoch 2/100\n",
            "20/20 [==============================] - 10s 491ms/step - loss: 0.6928 - accuracy: 0.5140 - val_loss: 0.6918 - val_accuracy: 0.5000\n",
            "Epoch 3/100\n",
            "20/20 [==============================] - 10s 492ms/step - loss: 0.6857 - accuracy: 0.5525 - val_loss: 0.6732 - val_accuracy: 0.6470\n",
            "Epoch 4/100\n",
            "20/20 [==============================] - 10s 489ms/step - loss: 0.6524 - accuracy: 0.6165 - val_loss: 0.6651 - val_accuracy: 0.6080\n",
            "Epoch 5/100\n",
            "20/20 [==============================] - 10s 488ms/step - loss: 0.6533 - accuracy: 0.6075 - val_loss: 0.6294 - val_accuracy: 0.6620\n",
            "Epoch 6/100\n",
            "20/20 [==============================] - 10s 489ms/step - loss: 0.6147 - accuracy: 0.6655 - val_loss: 0.6024 - val_accuracy: 0.6890\n",
            "Epoch 7/100\n",
            "20/20 [==============================] - 10s 492ms/step - loss: 0.5893 - accuracy: 0.6885 - val_loss: 0.5892 - val_accuracy: 0.6840\n",
            "Epoch 8/100\n",
            "20/20 [==============================] - 10s 488ms/step - loss: 0.5540 - accuracy: 0.7125 - val_loss: 0.5739 - val_accuracy: 0.7140\n",
            "Epoch 9/100\n",
            "20/20 [==============================] - 10s 485ms/step - loss: 0.5018 - accuracy: 0.7520 - val_loss: 0.5842 - val_accuracy: 0.6980\n",
            "Epoch 10/100\n",
            "20/20 [==============================] - 10s 491ms/step - loss: 0.4502 - accuracy: 0.7910 - val_loss: 0.5815 - val_accuracy: 0.7250\n",
            "Epoch 11/100\n",
            "20/20 [==============================] - 10s 493ms/step - loss: 0.4310 - accuracy: 0.7915 - val_loss: 0.5893 - val_accuracy: 0.7120\n",
            "Epoch 12/100\n",
            "20/20 [==============================] - 10s 489ms/step - loss: 0.3874 - accuracy: 0.8175 - val_loss: 0.6004 - val_accuracy: 0.7240\n",
            "Epoch 13/100\n",
            "20/20 [==============================] - 10s 485ms/step - loss: 0.3087 - accuracy: 0.8680 - val_loss: 0.6709 - val_accuracy: 0.7240\n",
            "Epoch 14/100\n",
            "20/20 [==============================] - 10s 491ms/step - loss: 0.2668 - accuracy: 0.8920 - val_loss: 0.6492 - val_accuracy: 0.7270\n",
            "Epoch 15/100\n",
            "20/20 [==============================] - 10s 486ms/step - loss: 0.1980 - accuracy: 0.9165 - val_loss: 0.7204 - val_accuracy: 0.7340\n",
            "Epoch 16/100\n",
            "20/20 [==============================] - 10s 487ms/step - loss: 0.1572 - accuracy: 0.9390 - val_loss: 0.7542 - val_accuracy: 0.7330\n",
            "Epoch 17/100\n",
            "20/20 [==============================] - 10s 488ms/step - loss: 0.0996 - accuracy: 0.9650 - val_loss: 0.9372 - val_accuracy: 0.7380\n",
            "Epoch 18/100\n",
            "20/20 [==============================] - 10s 485ms/step - loss: 0.0958 - accuracy: 0.9630 - val_loss: 0.9406 - val_accuracy: 0.7290\n",
            "Epoch 19/100\n",
            "20/20 [==============================] - 10s 484ms/step - loss: 0.0663 - accuracy: 0.9775 - val_loss: 1.1513 - val_accuracy: 0.7250\n",
            "Epoch 20/100\n",
            "20/20 [==============================] - 10s 492ms/step - loss: 0.0626 - accuracy: 0.9750 - val_loss: 1.1003 - val_accuracy: 0.7260\n",
            "Epoch 21/100\n",
            "20/20 [==============================] - 10s 490ms/step - loss: 0.0481 - accuracy: 0.9830 - val_loss: 1.2652 - val_accuracy: 0.7320\n",
            "Epoch 22/100\n",
            "20/20 [==============================] - 10s 486ms/step - loss: 0.0529 - accuracy: 0.9780 - val_loss: 1.4025 - val_accuracy: 0.7300\n",
            "Epoch 23/100\n",
            "20/20 [==============================] - 10s 489ms/step - loss: 0.0549 - accuracy: 0.9795 - val_loss: 1.2145 - val_accuracy: 0.7060\n",
            "Epoch 24/100\n",
            "20/20 [==============================] - 10s 497ms/step - loss: 0.0423 - accuracy: 0.9880 - val_loss: 1.2944 - val_accuracy: 0.7340\n",
            "Epoch 25/100\n",
            "20/20 [==============================] - 10s 490ms/step - loss: 0.0168 - accuracy: 0.9945 - val_loss: 1.3884 - val_accuracy: 0.7310\n",
            "Epoch 26/100\n",
            "20/20 [==============================] - 10s 493ms/step - loss: 0.0081 - accuracy: 0.9985 - val_loss: 1.6058 - val_accuracy: 0.7150\n",
            "Epoch 27/100\n",
            "20/20 [==============================] - 10s 493ms/step - loss: 0.0047 - accuracy: 0.9995 - val_loss: 1.6162 - val_accuracy: 0.7260\n",
            "Epoch 28/100\n",
            "20/20 [==============================] - 10s 486ms/step - loss: 0.0023 - accuracy: 1.0000 - val_loss: 1.7482 - val_accuracy: 0.7230\n",
            "Epoch 29/100\n",
            "20/20 [==============================] - 10s 495ms/step - loss: 0.0012 - accuracy: 1.0000 - val_loss: 1.7225 - val_accuracy: 0.7330\n",
            "Epoch 30/100\n",
            "20/20 [==============================] - 10s 503ms/step - loss: 6.0974e-04 - accuracy: 1.0000 - val_loss: 1.7683 - val_accuracy: 0.7370\n",
            "Epoch 31/100\n",
            "20/20 [==============================] - 10s 500ms/step - loss: 4.6207e-04 - accuracy: 1.0000 - val_loss: 1.8029 - val_accuracy: 0.7370\n",
            "Epoch 32/100\n",
            "20/20 [==============================] - 10s 500ms/step - loss: 3.7647e-04 - accuracy: 1.0000 - val_loss: 1.8313 - val_accuracy: 0.7380\n",
            "Epoch 33/100\n",
            "20/20 [==============================] - 10s 502ms/step - loss: 3.1890e-04 - accuracy: 1.0000 - val_loss: 1.8495 - val_accuracy: 0.7340\n",
            "Epoch 34/100\n",
            "20/20 [==============================] - 10s 502ms/step - loss: 2.6765e-04 - accuracy: 1.0000 - val_loss: 1.8887 - val_accuracy: 0.7390\n",
            "Epoch 35/100\n",
            "20/20 [==============================] - 10s 493ms/step - loss: 2.2036e-04 - accuracy: 1.0000 - val_loss: 1.9686 - val_accuracy: 0.7370\n",
            "Epoch 36/100\n",
            "20/20 [==============================] - 10s 488ms/step - loss: 1.9816e-04 - accuracy: 1.0000 - val_loss: 1.9434 - val_accuracy: 0.7350\n",
            "Epoch 37/100\n",
            "20/20 [==============================] - 10s 491ms/step - loss: 1.7208e-04 - accuracy: 1.0000 - val_loss: 1.9369 - val_accuracy: 0.7380\n",
            "Epoch 38/100\n",
            "20/20 [==============================] - 10s 489ms/step - loss: 1.5169e-04 - accuracy: 1.0000 - val_loss: 2.0005 - val_accuracy: 0.7380\n",
            "Epoch 39/100\n",
            "20/20 [==============================] - 10s 485ms/step - loss: 1.3340e-04 - accuracy: 1.0000 - val_loss: 2.0154 - val_accuracy: 0.7380\n",
            "Epoch 40/100\n",
            "20/20 [==============================] - 10s 488ms/step - loss: 1.1596e-04 - accuracy: 1.0000 - val_loss: 2.0147 - val_accuracy: 0.7410\n",
            "Epoch 41/100\n",
            "20/20 [==============================] - 10s 489ms/step - loss: 1.0076e-04 - accuracy: 1.0000 - val_loss: 2.0525 - val_accuracy: 0.7360\n",
            "Epoch 42/100\n",
            "20/20 [==============================] - 10s 491ms/step - loss: 9.1055e-05 - accuracy: 1.0000 - val_loss: 2.0515 - val_accuracy: 0.7350\n",
            "Epoch 43/100\n",
            "20/20 [==============================] - 10s 484ms/step - loss: 8.1397e-05 - accuracy: 1.0000 - val_loss: 2.0785 - val_accuracy: 0.7380\n",
            "Epoch 44/100\n",
            "20/20 [==============================] - 10s 490ms/step - loss: 7.5511e-05 - accuracy: 1.0000 - val_loss: 2.0623 - val_accuracy: 0.7420\n",
            "Epoch 45/100\n",
            "20/20 [==============================] - 10s 496ms/step - loss: 6.4059e-05 - accuracy: 1.0000 - val_loss: 2.0971 - val_accuracy: 0.7420\n",
            "Epoch 46/100\n",
            "20/20 [==============================] - 10s 491ms/step - loss: 5.8035e-05 - accuracy: 1.0000 - val_loss: 2.1122 - val_accuracy: 0.7420\n",
            "Epoch 47/100\n",
            "20/20 [==============================] - 10s 493ms/step - loss: 5.3308e-05 - accuracy: 1.0000 - val_loss: 2.1207 - val_accuracy: 0.7390\n",
            "Epoch 48/100\n",
            "20/20 [==============================] - 10s 488ms/step - loss: 4.8328e-05 - accuracy: 1.0000 - val_loss: 2.1355 - val_accuracy: 0.7390\n",
            "Epoch 49/100\n",
            "20/20 [==============================] - 10s 484ms/step - loss: 4.3816e-05 - accuracy: 1.0000 - val_loss: 2.1415 - val_accuracy: 0.7400\n",
            "Epoch 50/100\n",
            "20/20 [==============================] - 10s 490ms/step - loss: 3.9052e-05 - accuracy: 1.0000 - val_loss: 2.1489 - val_accuracy: 0.7420\n",
            "Epoch 51/100\n",
            "20/20 [==============================] - 10s 490ms/step - loss: 3.5985e-05 - accuracy: 1.0000 - val_loss: 2.1725 - val_accuracy: 0.7380\n",
            "Epoch 52/100\n",
            "20/20 [==============================] - 10s 484ms/step - loss: 3.2816e-05 - accuracy: 1.0000 - val_loss: 2.1770 - val_accuracy: 0.7440\n",
            "Epoch 53/100\n",
            "20/20 [==============================] - 10s 480ms/step - loss: 3.0860e-05 - accuracy: 1.0000 - val_loss: 2.1827 - val_accuracy: 0.7440\n",
            "Epoch 54/100\n",
            "20/20 [==============================] - 10s 482ms/step - loss: 2.8969e-05 - accuracy: 1.0000 - val_loss: 2.2012 - val_accuracy: 0.7430\n",
            "Epoch 55/100\n",
            "20/20 [==============================] - 10s 482ms/step - loss: 2.6217e-05 - accuracy: 1.0000 - val_loss: 2.2039 - val_accuracy: 0.7390\n",
            "Epoch 56/100\n",
            "20/20 [==============================] - 10s 480ms/step - loss: 2.4655e-05 - accuracy: 1.0000 - val_loss: 2.2078 - val_accuracy: 0.7430\n",
            "Epoch 57/100\n",
            "20/20 [==============================] - 10s 485ms/step - loss: 2.2381e-05 - accuracy: 1.0000 - val_loss: 2.2249 - val_accuracy: 0.7440\n",
            "Epoch 58/100\n",
            "20/20 [==============================] - 10s 487ms/step - loss: 2.1189e-05 - accuracy: 1.0000 - val_loss: 2.2267 - val_accuracy: 0.7390\n",
            "Epoch 59/100\n",
            "20/20 [==============================] - 10s 484ms/step - loss: 1.9859e-05 - accuracy: 1.0000 - val_loss: 2.2383 - val_accuracy: 0.7390\n",
            "Epoch 60/100\n",
            "20/20 [==============================] - 10s 489ms/step - loss: 1.8586e-05 - accuracy: 1.0000 - val_loss: 2.2428 - val_accuracy: 0.7410\n",
            "Epoch 61/100\n",
            "20/20 [==============================] - 10s 500ms/step - loss: 1.7804e-05 - accuracy: 1.0000 - val_loss: 2.2505 - val_accuracy: 0.7420\n",
            "Epoch 62/100\n",
            "20/20 [==============================] - 10s 500ms/step - loss: 1.6634e-05 - accuracy: 1.0000 - val_loss: 2.2616 - val_accuracy: 0.7410\n",
            "Epoch 63/100\n",
            "20/20 [==============================] - 10s 496ms/step - loss: 1.5583e-05 - accuracy: 1.0000 - val_loss: 2.2668 - val_accuracy: 0.7430\n",
            "Epoch 64/100\n",
            "20/20 [==============================] - 10s 494ms/step - loss: 1.4668e-05 - accuracy: 1.0000 - val_loss: 2.2752 - val_accuracy: 0.7430\n",
            "Epoch 65/100\n",
            "20/20 [==============================] - 10s 498ms/step - loss: 1.3788e-05 - accuracy: 1.0000 - val_loss: 2.2810 - val_accuracy: 0.7460\n",
            "Epoch 66/100\n",
            "20/20 [==============================] - 10s 493ms/step - loss: 1.3186e-05 - accuracy: 1.0000 - val_loss: 2.2908 - val_accuracy: 0.7460\n",
            "Epoch 67/100\n",
            "20/20 [==============================] - 10s 491ms/step - loss: 1.2627e-05 - accuracy: 1.0000 - val_loss: 2.2992 - val_accuracy: 0.7460\n",
            "Epoch 68/100\n",
            "20/20 [==============================] - 10s 480ms/step - loss: 1.1918e-05 - accuracy: 1.0000 - val_loss: 2.3003 - val_accuracy: 0.7460\n",
            "Epoch 69/100\n",
            "20/20 [==============================] - 10s 479ms/step - loss: 1.1294e-05 - accuracy: 1.0000 - val_loss: 2.3057 - val_accuracy: 0.7470\n",
            "Epoch 70/100\n",
            "20/20 [==============================] - 9s 478ms/step - loss: 1.0809e-05 - accuracy: 1.0000 - val_loss: 2.3159 - val_accuracy: 0.7500\n",
            "Epoch 71/100\n",
            "20/20 [==============================] - 10s 480ms/step - loss: 1.0380e-05 - accuracy: 1.0000 - val_loss: 2.3198 - val_accuracy: 0.7490\n",
            "Epoch 72/100\n",
            "20/20 [==============================] - 10s 489ms/step - loss: 9.9302e-06 - accuracy: 1.0000 - val_loss: 2.3248 - val_accuracy: 0.7470\n",
            "Epoch 73/100\n",
            "20/20 [==============================] - 10s 482ms/step - loss: 9.3955e-06 - accuracy: 1.0000 - val_loss: 2.3365 - val_accuracy: 0.7480\n",
            "Epoch 74/100\n",
            "20/20 [==============================] - 10s 480ms/step - loss: 8.8870e-06 - accuracy: 1.0000 - val_loss: 2.3359 - val_accuracy: 0.7490\n",
            "Epoch 75/100\n",
            "20/20 [==============================] - 10s 482ms/step - loss: 8.4826e-06 - accuracy: 1.0000 - val_loss: 2.3482 - val_accuracy: 0.7480\n",
            "Epoch 76/100\n",
            "20/20 [==============================] - 10s 485ms/step - loss: 8.1748e-06 - accuracy: 1.0000 - val_loss: 2.3502 - val_accuracy: 0.7480\n",
            "Epoch 77/100\n",
            "20/20 [==============================] - 10s 480ms/step - loss: 7.8004e-06 - accuracy: 1.0000 - val_loss: 2.3584 - val_accuracy: 0.7480\n",
            "Epoch 78/100\n",
            "20/20 [==============================] - 10s 480ms/step - loss: 7.5588e-06 - accuracy: 1.0000 - val_loss: 2.3617 - val_accuracy: 0.7470\n",
            "Epoch 79/100\n",
            "20/20 [==============================] - 10s 481ms/step - loss: 7.2936e-06 - accuracy: 1.0000 - val_loss: 2.3678 - val_accuracy: 0.7470\n",
            "Epoch 80/100\n",
            "20/20 [==============================] - 9s 478ms/step - loss: 6.9469e-06 - accuracy: 1.0000 - val_loss: 2.3748 - val_accuracy: 0.7490\n",
            "Epoch 81/100\n",
            "20/20 [==============================] - 10s 479ms/step - loss: 6.6485e-06 - accuracy: 1.0000 - val_loss: 2.3808 - val_accuracy: 0.7490\n",
            "Epoch 82/100\n",
            "20/20 [==============================] - 10s 478ms/step - loss: 6.3793e-06 - accuracy: 1.0000 - val_loss: 2.3828 - val_accuracy: 0.7490\n",
            "Epoch 83/100\n",
            "20/20 [==============================] - 9s 476ms/step - loss: 6.1456e-06 - accuracy: 1.0000 - val_loss: 2.3909 - val_accuracy: 0.7480\n",
            "Epoch 84/100\n",
            "20/20 [==============================] - 10s 481ms/step - loss: 5.9467e-06 - accuracy: 1.0000 - val_loss: 2.3950 - val_accuracy: 0.7500\n",
            "Epoch 85/100\n",
            "20/20 [==============================] - 10s 481ms/step - loss: 5.7033e-06 - accuracy: 1.0000 - val_loss: 2.3974 - val_accuracy: 0.7500\n",
            "Epoch 86/100\n",
            "20/20 [==============================] - 10s 479ms/step - loss: 5.5844e-06 - accuracy: 1.0000 - val_loss: 2.4038 - val_accuracy: 0.7500\n",
            "Epoch 87/100\n",
            "20/20 [==============================] - 10s 479ms/step - loss: 5.3380e-06 - accuracy: 1.0000 - val_loss: 2.4107 - val_accuracy: 0.7500\n",
            "Epoch 88/100\n",
            "20/20 [==============================] - 9s 479ms/step - loss: 5.2074e-06 - accuracy: 1.0000 - val_loss: 2.4172 - val_accuracy: 0.7490\n",
            "Epoch 89/100\n",
            "20/20 [==============================] - 10s 481ms/step - loss: 4.9995e-06 - accuracy: 1.0000 - val_loss: 2.4208 - val_accuracy: 0.7480\n",
            "Epoch 90/100\n",
            "20/20 [==============================] - 10s 480ms/step - loss: 4.8344e-06 - accuracy: 1.0000 - val_loss: 2.4212 - val_accuracy: 0.7490\n",
            "Epoch 91/100\n",
            "20/20 [==============================] - 9s 477ms/step - loss: 4.6837e-06 - accuracy: 1.0000 - val_loss: 2.4293 - val_accuracy: 0.7480\n",
            "Epoch 92/100\n",
            "20/20 [==============================] - 10s 480ms/step - loss: 4.4994e-06 - accuracy: 1.0000 - val_loss: 2.4311 - val_accuracy: 0.7490\n",
            "Epoch 93/100\n",
            "20/20 [==============================] - 10s 483ms/step - loss: 4.3840e-06 - accuracy: 1.0000 - val_loss: 2.4349 - val_accuracy: 0.7500\n",
            "Epoch 94/100\n",
            "20/20 [==============================] - 10s 479ms/step - loss: 4.2378e-06 - accuracy: 1.0000 - val_loss: 2.4408 - val_accuracy: 0.7480\n",
            "Epoch 95/100\n",
            "20/20 [==============================] - 10s 482ms/step - loss: 4.1144e-06 - accuracy: 1.0000 - val_loss: 2.4480 - val_accuracy: 0.7480\n",
            "Epoch 96/100\n",
            "20/20 [==============================] - 10s 485ms/step - loss: 3.9904e-06 - accuracy: 1.0000 - val_loss: 2.4511 - val_accuracy: 0.7500\n",
            "Epoch 97/100\n",
            "20/20 [==============================] - 10s 478ms/step - loss: 3.8824e-06 - accuracy: 1.0000 - val_loss: 2.4578 - val_accuracy: 0.7480\n",
            "Epoch 98/100\n",
            "20/20 [==============================] - 10s 482ms/step - loss: 3.7862e-06 - accuracy: 1.0000 - val_loss: 2.4546 - val_accuracy: 0.7500\n",
            "Epoch 99/100\n",
            "20/20 [==============================] - 10s 481ms/step - loss: 3.6368e-06 - accuracy: 1.0000 - val_loss: 2.4608 - val_accuracy: 0.7510\n",
            "Epoch 100/100\n",
            "20/20 [==============================] - 10s 483ms/step - loss: 3.5241e-06 - accuracy: 1.0000 - val_loss: 2.4705 - val_accuracy: 0.7510\n"
          ],
          "name": "stdout"
        }
      ]
    },
    {
      "cell_type": "markdown",
      "metadata": {
        "id": "ojJNteAGVrWo"
      },
      "source": [
        "### Visualizing results of the training"
      ]
    },
    {
      "cell_type": "markdown",
      "metadata": {
        "id": "LZPYT-EmVrWo"
      },
      "source": [
        "We'll now visualize the results we get after training our network."
      ]
    },
    {
      "cell_type": "code",
      "metadata": {
        "id": "K6oA77ADVrWp",
        "outputId": "d5c7d097-b809-4db0-994a-b2db8fbe1de7",
        "colab": {
          "base_uri": "https://localhost:8080/",
          "height": 499
        }
      },
      "source": [
        "acc = history.history['accuracy']\n",
        "val_acc = history.history['val_accuracy']\n",
        "\n",
        "loss = history.history['loss']\n",
        "val_loss = history.history['val_loss']\n",
        "\n",
        "epochs_range = range(EPOCHS)\n",
        "\n",
        "plt.figure(figsize=(8, 8))\n",
        "plt.subplot(1, 2, 1)\n",
        "plt.plot(epochs_range, acc, label='Training Accuracy')\n",
        "plt.plot(epochs_range, val_acc, label='Validation Accuracy')\n",
        "plt.legend(loc='lower right')\n",
        "plt.title('Training and Validation Accuracy')\n",
        "\n",
        "plt.subplot(1, 2, 2)\n",
        "plt.plot(epochs_range, loss, label='Training Loss')\n",
        "plt.plot(epochs_range, val_loss, label='Validation Loss')\n",
        "plt.legend(loc='upper right')\n",
        "plt.title('Training and Validation Loss')\n",
        "plt.savefig('./foo.png')\n",
        "plt.show()"
      ],
      "execution_count": 20,
      "outputs": [
        {
          "output_type": "display_data",
          "data": {
            "image/png": "[encoded data removed]",
            "text/plain": [
              "<Figure size 576x576 with 2 Axes>"
            ]
          },
          "metadata": {
            "tags": [],
            "needs_background": "light"
          }
        }
      ]
    },
    {
      "cell_type": "markdown",
      "metadata": {
        "id": "kDnr50l2VrWu"
      },
      "source": [
        "As we can see from the plots, training accuracy and validation accuracy are off by large margin and our model has achieved only around **70%** accuracy on the validation set (depending on the number of epochs you trained for).\n",
        "\n",
        "This is a clear indication of overfitting. Once the training and validation curves start to diverge, our model has started to memorize the training data and is unable to perform well on the validation data."
      ]
    }
  ]
}